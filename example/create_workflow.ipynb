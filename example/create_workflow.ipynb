{
 "cells": [
  {
   "cell_type": "markdown",
   "metadata": {},
   "source": [
    "This example shows how to create GW-BSE workflow using pyGWBSE\n",
    "package. We will show how to compute QP bandstructure for AlN\n",
    "at the partial self-consistent (GW0) level by obtaining input \n",
    "structure from Material Project (MP) database and BSE absorption \n",
    "spectra for Silicon by using input structure from a POSCAR file."
   ]
  },
  {
   "cell_type": "code",
   "execution_count": 1,
   "metadata": {},
   "outputs": [],
   "source": [
    "#First let's load the required libraries\n",
    "import sys\n",
    "sys.path.append('../')\n",
    "from make_wf import read_input, create_wfs\n",
    "from fireworks import LaunchPad\n",
    "from pymatgen.ext.matproj import MPRester\n",
    "from pymatgen import Structure"
   ]
  },
  {
   "cell_type": "code",
   "execution_count": 2,
   "metadata": {
    "scrolled": true
   },
   "outputs": [
    {
     "name": "stdout",
     "output_type": "stream",
     "text": [
      "PARAMS:\r\n",
      "  kpar: 8                           # KPAR to be used for VASP simulations'\r\n",
      "  ppn: 13                           # NPROCS/KPAR ; NPROCS=number of total processors for VASP simulations  \r\n",
      "  reciprocal_density: 100           # reciprocal density that determines the number of k-points \r\n",
      "  encutgw: 100                      # ENCUTGW to be used for VASP simulations\r\n",
      "  nbgwfactor: 3                     # NBANDS=nbgwfactor*nocc' ; nocc' is the smallest multiple of \r\n",
      "                                    # ppn that is larger than number of occupied bands\r\n",
      "  nomegagw: 80                      # NOMEGAGW to be used for VASP simulations\r\n",
      "  convparam: NBANDS                 # NBANDS/ENCUTGW/NOMEGA parameter to run convergence test for  \r\n",
      "  convsteps: 2                      # steps to be used for convergence test\r\n",
      "  conviter: 5                       # maximum number of iteration in convergence test \r\n",
      "  enwinbse: 3.0                     # energy window in BSE calculations\r\n",
      "\r\n",
      "\r\n",
      "\r\n",
      "STRUCTURE:\r\n",
      "  source: MID                       # MID/POSCAR MID:get structure from MP database, POSCAR: structure from a file            \r\n",
      "  mat_name: NEW_MAT                 # unique identifier in the database when source=POSCAR\r\n",
      "  material_id: mp-661               # material_id of the input structure in MP database\r\n",
      "  \r\n",
      "  \r\n",
      "  \r\n",
      "WFLOW_DESIGN:\r\n",
      "  skip_emc: false                    # set true to skip effective mass calculation                \r\n",
      "  skip_wannier: false                # set true to skip wannier bandstructure interpolation\r\n",
      "  skip_conv: false                   # set true to skip convergence test\r\n",
      "  skip_gw: false                     # set true to skip GW calculation\r\n",
      "  scgw: true                         # set true to perform self-consistent GW instead of G0W0\r\n",
      "  skip_bse: true                     # set true to skip BSE calculation\r\n"
     ]
    }
   ],
   "source": [
    "#Now let's check the content of the 'input.yaml' file.\n",
    "!cat 'input.yaml'"
   ]
  },
  {
   "cell_type": "code",
   "execution_count": 3,
   "metadata": {},
   "outputs": [],
   "source": [
    "\"\"\"\n",
    "    'read_input' function reads input parameters from input.yaml file.\n",
    "    \n",
    "     Returns:\n",
    "    \n",
    "     structure: pymatgen structure object for the input structure\n",
    "     input_dict: a dictionary of all the input paramters\n",
    "     \n",
    "\"\"\"\n",
    "\n",
    "structure, input_dict = read_input()"
   ]
  },
  {
   "cell_type": "code",
   "execution_count": 4,
   "metadata": {
    "scrolled": true
   },
   "outputs": [
    {
     "name": "stdout",
     "output_type": "stream",
     "text": [
      "-------------------------------------------\n",
      "material:  mp-661\n",
      "Information for efficient parallelization\n",
      "You have  8 occupied bands\n",
      "You have  48 kpoints\n",
      "You have  [[9, 9, 6]] k-grid\n",
      "Will perform convergence test for:  NBANDS\n",
      "Values that will be used for convergence test: 39 65 91 117 143 \n",
      "KPAR= 8\n",
      "reciprocal_density= 100\n",
      "-------------------------------------------\n"
     ]
    },
    {
     "name": "stderr",
     "output_type": "stream",
     "text": [
      "/home/tatha/anaconda3/envs/cms/lib/python3.6/site-packages/pymatgen/io/vasp/sets.py:447: BadInputSetWarning:\n",
      "\n",
      "Overriding the POTCAR functional is generally not recommended  as it significantly affect the results of calculations and compatibility with other calculations done with the same input set. Note that some POTCAR symbols specified in the configuration file may not be available in the selected functional.\n",
      "\n"
     ]
    }
   ],
   "source": [
    "\"\"\"\n",
    "    'create_wfs' function creates the GW-BSE workflow based on input specification.\n",
    "    \n",
    "    Args:\n",
    "    \n",
    "     structure: pymatgen structure object for the input structure\n",
    "     input_dict: a dictionary of all the input paramters\n",
    "     \n",
    "    Returns:\n",
    "    \n",
    "     wf_gwbse: GW-BSE workflow as a Fireworks workflow object.\n",
    "         \n",
    "\"\"\"\n",
    "\n",
    "wf_gwbse=create_wfs(structure, input_dict)"
   ]
  },
  {
   "cell_type": "code",
   "execution_count": 5,
   "metadata": {},
   "outputs": [],
   "source": [
    "#Load the Fireworks Launchpad \n",
    "lpad = LaunchPad.auto_load() "
   ]
  },
  {
   "cell_type": "code",
   "execution_count": 6,
   "metadata": {},
   "outputs": [
    {
     "name": "stdout",
     "output_type": "stream",
     "text": [
      "2022-08-04 15:20:07,507 INFO Added a workflow. id_map: {-6: 1, -5: 2, -4: 3, -3: 4, -2: 5, -1: 6}\n"
     ]
    },
    {
     "data": {
      "text/plain": [
       "{-6: 1, -5: 2, -4: 3, -3: 4, -2: 5, -1: 6}"
      ]
     },
     "execution_count": 6,
     "metadata": {},
     "output_type": "execute_result"
    }
   ],
   "source": [
    "#Add the workflow you just created\n",
    "lpad.add_wf(wf_gwbse)"
   ]
  },
  {
   "cell_type": "code",
   "execution_count": 7,
   "metadata": {},
   "outputs": [
    {
     "name": "stdout",
     "output_type": "stream",
     "text": [
      "/home/tatha/anaconda3/envs/cms/lib/python3.6/site-packages/pymatgen/io/vasp/sets.py:447: BadInputSetWarning:\n",
      "\n",
      "Overriding the POTCAR functional is generally not recommended  as it significantly affect the results of calculations and compatibility with other calculations done with the same input set. Note that some POTCAR symbols specified in the configuration file may not be available in the selected functional.\n",
      "\n",
      "[\n",
      "    {\n",
      "        \"fw_id\": 1,\n",
      "        \"created_on\": \"2022-08-04T09:50:01.287246\",\n",
      "        \"updated_on\": \"2022-08-04T09:50:01.287246\",\n",
      "        \"name\": \"mp-661-WANNIER\",\n",
      "        \"state\": \"WAITING\"\n",
      "    },\n",
      "    {\n",
      "        \"fw_id\": 2,\n",
      "        \"created_on\": \"2022-08-04T09:50:01.287228\",\n",
      "        \"updated_on\": \"2022-08-04T09:50:01.287229\",\n",
      "        \"name\": \"mp-661-GW\",\n",
      "        \"state\": \"WAITING\"\n",
      "    },\n",
      "    {\n",
      "        \"fw_id\": 3,\n",
      "        \"created_on\": \"2022-08-04T09:50:01.287157\",\n",
      "        \"updated_on\": \"2022-08-04T09:50:01.287158\",\n",
      "        \"name\": \"mp-661-CONV\",\n",
      "        \"state\": \"WAITING\"\n",
      "    },\n",
      "    {\n",
      "        \"fw_id\": 4,\n",
      "        \"created_on\": \"2022-08-04T09:50:01.285204\",\n",
      "        \"updated_on\": \"2022-08-04T09:50:01.285204\",\n",
      "        \"name\": \"mp-661-WANNIER_CHECK\",\n",
      "        \"state\": \"WAITING\"\n",
      "    },\n",
      "    {\n",
      "        \"fw_id\": 5,\n",
      "        \"created_on\": \"2022-08-04T09:50:01.284976\",\n",
      "        \"updated_on\": \"2022-08-04T09:50:01.284977\",\n",
      "        \"name\": \"mp-661-EMC\",\n",
      "        \"state\": \"WAITING\"\n",
      "    },\n",
      "    {\n",
      "        \"fw_id\": 6,\n",
      "        \"created_on\": \"2022-08-04T09:50:01.284703\",\n",
      "        \"updated_on\": \"2022-08-04T09:50:04.242157\",\n",
      "        \"state\": \"READY\",\n",
      "        \"name\": \"mp-661-SCF\"\n",
      "    }\n",
      "]\n"
     ]
    }
   ],
   "source": [
    "#Check the Fireworks loaded to the Launchpad\n",
    "lp='lpad get_fws'\n",
    "!{lp}"
   ]
  },
  {
   "cell_type": "markdown",
   "metadata": {},
   "source": [
    "As you can see there are 6 fireworks loaded to to the Launchpad. If we don't set skip_bse to true,\n",
    "there would be one more firework named 'mp-661-BSE' and all possible 7 fireworks would be there \n",
    "in the workflow. "
   ]
  },
  {
   "cell_type": "markdown",
   "metadata": {},
   "source": [
    "Now, let's create another workflow to compute absorption spectra of Silicon. We will \n",
    "provide the input structure from a POSCAR file in this example instead of getting it \n",
    "from MP database.   "
   ]
  },
  {
   "cell_type": "code",
   "execution_count": 8,
   "metadata": {},
   "outputs": [],
   "source": [
    "#Let's change some of the input parameters to create the new GW-BSE workflow \n",
    "\n",
    "structure = Structure.from_file(filename='POSCAR') \n",
    "#We want to read the structure from POSCAR file.\n",
    "\n",
    "input_dict[\"PARAMS\"][\"mat_name\"] = 'Si_test'       \n",
    "#We need to set some identifier for the database.\n",
    "\n",
    "input_dict[\"PARAMS\"][\"nbgwfactor\"] = 5             \n",
    "#Let's use a large number of unoccupied bands \n",
    "#and skip the convergence test.\n",
    "    \n",
    "input_dict[\"PARAMS\"][\"reciprocal_density\"] = 250   \n",
    "#Let's use a denser k-mesh so that we get accurate \n",
    "#BSE absorption spectra.\n",
    "    \n",
    "input_dict[\"WFLOW_DESIGN\"][\"skip_emc\"] = True      \n",
    "#We can skip the effective mass calculation.\n",
    "\n",
    "input_dict[\"WFLOW_DESIGN\"][\"skip_conv\"] = True     \n",
    "#We can skip the convergence test.\n",
    "\n",
    "input_dict[\"WFLOW_DESIGN\"][\"skip_wannier\"] = True  \n",
    "#We can skip the wannier interpolation.\n",
    "\n",
    "input_dict[\"WFLOW_DESIGN\"][\"scgw\"] = False         \n",
    "#We want to perform G0W0 calculation.\n",
    "\n",
    "input_dict[\"WFLOW_DESIGN\"][\"skip_bse\"] = False     \n",
    "#We want to perform BSE calculation.\n"
   ]
  },
  {
   "cell_type": "code",
   "execution_count": 9,
   "metadata": {},
   "outputs": [
    {
     "name": "stdout",
     "output_type": "stream",
     "text": [
      "-------------------------------------------\n",
      "material:  Si_test\n",
      "Information for efficient parallelization\n",
      "You have  4 occupied bands\n",
      "You have  56 kpoints\n",
      "You have  [[11, 11, 11]] k-grid\n",
      "\n",
      "KPAR= 8\n",
      "reciprocal_density= 250\n",
      "BSE calculation will include bands in the energy window (eV)= 3.0\n",
      "-------------------------------------------\n"
     ]
    }
   ],
   "source": [
    "#Now let's create the new workflow\n",
    "wf_gwbse=create_wfs(structure, input_dict)"
   ]
  },
  {
   "cell_type": "code",
   "execution_count": 10,
   "metadata": {},
   "outputs": [],
   "source": [
    "#Load the Fireworks Launchpad \n",
    "lpad = LaunchPad.auto_load() "
   ]
  },
  {
   "cell_type": "code",
   "execution_count": 11,
   "metadata": {},
   "outputs": [
    {
     "name": "stdout",
     "output_type": "stream",
     "text": [
      "2022-08-04 15:20:43,924 INFO Added a workflow. id_map: {-10: 7, -9: 8, -8: 9, -7: 10}\n"
     ]
    },
    {
     "data": {
      "text/plain": [
       "{-10: 7, -9: 8, -8: 9, -7: 10}"
      ]
     },
     "execution_count": 11,
     "metadata": {},
     "output_type": "execute_result"
    }
   ],
   "source": [
    "#Add the workflow you just created\n",
    "lpad.add_wf(wf_gwbse)"
   ]
  },
  {
   "cell_type": "code",
   "execution_count": 12,
   "metadata": {},
   "outputs": [
    {
     "name": "stdout",
     "output_type": "stream",
     "text": [
      "/home/tatha/anaconda3/envs/cms/lib/python3.6/site-packages/pymatgen/io/vasp/sets.py:447: BadInputSetWarning:\n",
      "\n",
      "Overriding the POTCAR functional is generally not recommended  as it significantly affect the results of calculations and compatibility with other calculations done with the same input set. Note that some POTCAR symbols specified in the configuration file may not be available in the selected functional.\n",
      "\n",
      "[\n",
      "    {\n",
      "        \"fw_id\": 1,\n",
      "        \"created_on\": \"2022-08-04T09:50:01.287246\",\n",
      "        \"updated_on\": \"2022-08-04T09:50:01.287246\",\n",
      "        \"name\": \"mp-661-WANNIER\",\n",
      "        \"state\": \"WAITING\"\n",
      "    },\n",
      "    {\n",
      "        \"fw_id\": 2,\n",
      "        \"created_on\": \"2022-08-04T09:50:01.287228\",\n",
      "        \"updated_on\": \"2022-08-04T09:50:01.287229\",\n",
      "        \"name\": \"mp-661-GW\",\n",
      "        \"state\": \"WAITING\"\n",
      "    },\n",
      "    {\n",
      "        \"fw_id\": 3,\n",
      "        \"created_on\": \"2022-08-04T09:50:01.287157\",\n",
      "        \"updated_on\": \"2022-08-04T09:50:01.287158\",\n",
      "        \"name\": \"mp-661-CONV\",\n",
      "        \"state\": \"WAITING\"\n",
      "    },\n",
      "    {\n",
      "        \"fw_id\": 4,\n",
      "        \"created_on\": \"2022-08-04T09:50:01.285204\",\n",
      "        \"updated_on\": \"2022-08-04T09:50:01.285204\",\n",
      "        \"name\": \"mp-661-WANNIER_CHECK\",\n",
      "        \"state\": \"WAITING\"\n",
      "    },\n",
      "    {\n",
      "        \"fw_id\": 5,\n",
      "        \"created_on\": \"2022-08-04T09:50:01.284976\",\n",
      "        \"updated_on\": \"2022-08-04T09:50:01.284977\",\n",
      "        \"name\": \"mp-661-EMC\",\n",
      "        \"state\": \"WAITING\"\n",
      "    },\n",
      "    {\n",
      "        \"fw_id\": 6,\n",
      "        \"created_on\": \"2022-08-04T09:50:01.284703\",\n",
      "        \"updated_on\": \"2022-08-04T09:50:04.242157\",\n",
      "        \"state\": \"READY\",\n",
      "        \"name\": \"mp-661-SCF\"\n",
      "    },\n",
      "    {\n",
      "        \"fw_id\": 7,\n",
      "        \"created_on\": \"2022-08-04T09:50:32.715955\",\n",
      "        \"updated_on\": \"2022-08-04T09:50:32.715956\",\n",
      "        \"state\": \"PAUSED\",\n",
      "        \"name\": \"Si_test-BSE\"\n",
      "    },\n",
      "    {\n",
      "        \"fw_id\": 8,\n",
      "        \"created_on\": \"2022-08-04T09:50:32.715928\",\n",
      "        \"updated_on\": \"2022-08-04T09:50:32.715929\",\n",
      "        \"name\": \"Si_test-GW\",\n",
      "        \"state\": \"WAITING\"\n",
      "    },\n",
      "    {\n",
      "        \"fw_id\": 9,\n",
      "        \"created_on\": \"2022-08-04T09:50:32.715866\",\n",
      "        \"updated_on\": \"2022-08-04T09:50:32.715866\",\n",
      "        \"name\": \"Si_test-CONV\",\n",
      "        \"state\": \"WAITING\"\n",
      "    },\n",
      "    {\n",
      "        \"fw_id\": 10,\n",
      "        \"created_on\": \"2022-08-04T09:50:32.714301\",\n",
      "        \"updated_on\": \"2022-08-04T09:50:41.108879\",\n",
      "        \"state\": \"READY\",\n",
      "        \"name\": \"Si_test-SCF\"\n",
      "    }\n",
      "]\n"
     ]
    }
   ],
   "source": [
    "#Check the Fireworks loaded to the Launchpad\n",
    "lp='lpad get_fws'\n",
    "!{lp}"
   ]
  },
  {
   "cell_type": "markdown",
   "metadata": {},
   "source": [
    "As you can see in addition to the 6 fireworks that was already there in the Launchpad,\n",
    "now there are 4 more Fireworks with prefix 'Si_test'. Also we should note that the BSE \n",
    "Firework is in a 'PAUSED' state by default. This is because, the k-point parallelization \n",
    "is not yet implemented for BSE calculation in VASP. Therefore, to make the number of bands \n",
    "in the WAVEDER file a multiple of number of processor used (requirement for VASP, otherwise\n",
    "it will change the NBANDS value) we need to run the BSE workflow on NPROCS=NPROCS'/KPAR, \n",
    "where NPROCS' is the number of processors used for the earlier Fireworks. Now that we have \n",
    "all the Fireworks in the Launchpad we can run them and use the postprocessing scripts to analyze\n",
    "the results once they are 'COMPLETED'"
   ]
  }
 ],
 "metadata": {
  "kernelspec": {
   "display_name": "cms",
   "language": "python",
   "name": "cms"
  },
  "language_info": {
   "codemirror_mode": {
    "name": "ipython",
    "version": 3
   },
   "file_extension": ".py",
   "mimetype": "text/x-python",
   "name": "python",
   "nbconvert_exporter": "python",
   "pygments_lexer": "ipython3",
   "version": "3.6.13"
  }
 },
 "nbformat": 4,
 "nbformat_minor": 4
}
