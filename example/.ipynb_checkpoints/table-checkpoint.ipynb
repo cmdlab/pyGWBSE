{
 "cells": [
  {
   "cell_type": "code",
   "execution_count": 1,
   "metadata": {},
   "outputs": [],
   "source": [
    "#Required python libraries\n",
    "import sys\n",
    "from funcs import *"
   ]
  },
  {
   "cell_type": "code",
   "execution_count": 2,
   "metadata": {},
   "outputs": [],
   "source": [
    "#Connect to the database. Needs hostname, port, username, password, databasename.\n",
    "hostname='hydrogen.cmd.lab.asu.edu'\n",
    "port=27017\n",
    "username='tbiswas3'\n",
    "password='CMD##tatha'\n",
    "dbname='debug_db'\n",
    "db=connect_database(hostname, port, username, password, dbname)  "
   ]
  },
  {
   "cell_type": "code",
   "execution_count": 3,
   "metadata": {},
   "outputs": [],
   "source": [
    "#Materials Project ID has been used as identifier in the database\n",
    "mid='mp-66'"
   ]
  },
  {
   "cell_type": "code",
   "execution_count": 7,
   "metadata": {
    "scrolled": false
   },
   "outputs": [
    {
     "name": "stdout",
     "output_type": "stream",
     "text": [
      "indirect gap:  5.23 direct gap:  7.14\n"
     ]
    }
   ],
   "source": [
    "##Retrieve QP energies and INCAR paramters for converged GW calculation  \n",
    "qpe, incar = get_qpe(db, {'material_id': mid, \"task_label\": { \"$regex\": 'scGW'}, 'ifconv': True})\n",
    "igap, dgap = get_gap_from_dict(qpe)"
   ]
  },
  {
   "cell_type": "code",
   "execution_count": null,
   "metadata": {},
   "outputs": [],
   "source": [
    "opgd0,name,ex_en,ex_os=get_opg(db, mid)\n",
    "print('Optical gap:','%5.2f' %opgd0)"
   ]
  },
  {
   "cell_type": "code",
   "execution_count": 8,
   "metadata": {},
   "outputs": [
    {
     "name": "stdout",
     "output_type": "stream",
     "text": [
      "Exciton Binding Energy:  0.39\n"
     ]
    }
   ],
   "source": [
    "#Exciton Binding Energy \n",
    "ebe=dgap-opgd0\n",
    "print('Exciton Binding Energy:', '%5.2f' %ebe)"
   ]
  },
  {
   "cell_type": "code",
   "execution_count": null,
   "metadata": {},
   "outputs": [],
   "source": []
  }
 ],
 "metadata": {
  "kernelspec": {
   "display_name": "cms",
   "language": "python",
   "name": "cms"
  },
  "language_info": {
   "codemirror_mode": {
    "name": "ipython",
    "version": 3
   },
   "file_extension": ".py",
   "mimetype": "text/x-python",
   "name": "python",
   "nbconvert_exporter": "python",
   "pygments_lexer": "ipython3",
   "version": "3.6.13"
  }
 },
 "nbformat": 4,
 "nbformat_minor": 2
}
