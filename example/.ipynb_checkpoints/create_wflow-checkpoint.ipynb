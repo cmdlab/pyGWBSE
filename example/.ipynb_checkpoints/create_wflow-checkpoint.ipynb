{
 "cells": [
  {
   "cell_type": "code",
   "execution_count": 1,
   "metadata": {},
   "outputs": [],
   "source": [
    "#required python libraries\n",
    "import sys\n",
    "sys.path.append('../')\n",
    "from make_wf import read_input, create_wfs\n",
    "from fireworks import LaunchPad\n",
    "from pymatgen.ext.matproj import MPRester"
   ]
  },
  {
   "cell_type": "code",
   "execution_count": 2,
   "metadata": {},
   "outputs": [
    {
     "name": "stdout",
     "output_type": "stream",
     "text": [
      "PARAMS:\r\n",
      "  kpar: 4\r\n",
      "  ppn: 13\r\n",
      "  reciprocal_density: 100\r\n",
      "  encutgw: 100\r\n",
      "  nbgwfactor: 3\r\n",
      "  nomegagw: 50\r\n",
      "  convparam: NBANDS\r\n",
      "  convsteps: 3\r\n",
      "  conviter: 5\r\n",
      "STRUCTURE:\r\n",
      "  source: MID\r\n",
      "  mat_name: NEW_MAT\r\n",
      "  material_id: mp-149   \r\n",
      "WFLOW_DESIGN:\r\n",
      "  emc_fw: true \r\n",
      "  wannier_fw: true \r\n",
      "  conv_fw: true\r\n",
      "  gw_fw: true \r\n",
      "  bse_fw: true \r\n"
     ]
    }
   ],
   "source": [
    "cat 'input.yaml'"
   ]
  },
  {
   "cell_type": "code",
   "execution_count": 3,
   "metadata": {},
   "outputs": [
    {
     "name": "stdout",
     "output_type": "stream",
     "text": [
      "-------------------------------------------\n",
      "material:  mp-149\n",
      "Information for efficient parallelization\n",
      "You have  4 occupied bands\n",
      "You have  29 kpoints\n",
      "You have  [[8, 8, 8]] k-grid\n",
      "Will perform convergence test for:  NBANDS\n",
      "Values that will be used for convergence test: 39 78 117 156 195 \n",
      "KPAR= 4\n",
      "reciprocal_density= 100\n",
      "-------------------------------------------\n"
     ]
    },
    {
     "name": "stderr",
     "output_type": "stream",
     "text": [
      "/home/tatha/anaconda3/envs/cms/lib/python3.6/site-packages/pymatgen/io/vasp/sets.py:447: BadInputSetWarning:\n",
      "\n",
      "Overriding the POTCAR functional is generally not recommended  as it significantly affect the results of calculations and compatibility with other calculations done with the same input set. Note that some POTCAR symbols specified in the configuration file may not be available in the selected functional.\n",
      "\n"
     ]
    }
   ],
   "source": [
    "#Read input parameters from input.yaml file\n",
    "struct, mat_name, nocc, kpar, ppn, rd, nbgwfactor, \\\n",
    "encutgw, nomegagw, convparam, convsteps, conviter, \\\n",
    "wannier_fw, emc_fw, conv_fw, gw_fw, bse_fw, nbandso,\\\n",
    "nbandsv, nbands = read_input()"
   ]
  },
  {
   "cell_type": "code",
   "execution_count": 4,
   "metadata": {},
   "outputs": [],
   "source": [
    "rd=200"
   ]
  },
  {
   "cell_type": "code",
   "execution_count": 5,
   "metadata": {},
   "outputs": [],
   "source": [
    "#Create the GW-BSE workflow\n",
    "wf_gwbse=create_wfs(struct, ppn=ppn, mat_name=mat_name, \\\n",
    "                    nbands=nbands, nbandsgw=nocc+nbandsv, \\\n",
    "                    kpar=kpar, nbgwfactor=nbgwfactor, \\\n",
    "                    encutgw=encutgw, nomegagw=nomegagw, \\\n",
    "                    convparam=convparam, convsteps=convsteps, \\\n",
    "                    conviter=conviter, reciprocal_density=rd, \\\n",
    "                    nbandso=nbandso, nbandsv=nbandsv, \\\n",
    "                    wannier_fw=wannier_fw, emc_fw=emc_fw, \\\n",
    "                    conv_fw=conv_fw, gw_fw=gw_fw, bse_fw=bse_fw)"
   ]
  },
  {
   "cell_type": "code",
   "execution_count": 6,
   "metadata": {},
   "outputs": [],
   "source": [
    "#Load the Fireworks Launchpad \n",
    "lpad = LaunchPad.auto_load() "
   ]
  },
  {
   "cell_type": "code",
   "execution_count": 7,
   "metadata": {},
   "outputs": [
    {
     "name": "stdout",
     "output_type": "stream",
     "text": [
      "2021-12-03 12:09:27,568 INFO Added a workflow. id_map: {-7: 1, -6: 2, -5: 3, -4: 4, -3: 5, -2: 6, -1: 7}\n"
     ]
    },
    {
     "data": {
      "text/plain": [
       "{-7: 1, -6: 2, -5: 3, -4: 4, -3: 5, -2: 6, -1: 7}"
      ]
     },
     "execution_count": 7,
     "metadata": {},
     "output_type": "execute_result"
    }
   ],
   "source": [
    "#Add the workflow you just created\n",
    "lpad.add_wf(wf_gwbse)"
   ]
  },
  {
   "cell_type": "code",
   "execution_count": 8,
   "metadata": {},
   "outputs": [
    {
     "name": "stdout",
     "output_type": "stream",
     "text": [
      "/home/tatha/anaconda3/envs/cms/lib/python3.6/site-packages/pymatgen/io/vasp/sets.py:447: BadInputSetWarning:\n",
      "\n",
      "Overriding the POTCAR functional is generally not recommended  as it significantly affect the results of calculations and compatibility with other calculations done with the same input set. Note that some POTCAR symbols specified in the configuration file may not be available in the selected functional.\n",
      "\n",
      "[\n",
      "    {\n",
      "        \"fw_id\": 1,\n",
      "        \"created_on\": \"2021-12-03T19:09:27.076379\",\n",
      "        \"updated_on\": \"2021-12-03T19:09:27.076379\",\n",
      "        \"state\": \"PAUSED\",\n",
      "        \"name\": \"mp-149-BSE\"\n",
      "    },\n",
      "    {\n",
      "        \"fw_id\": 2,\n",
      "        \"created_on\": \"2021-12-03T19:09:27.076362\",\n",
      "        \"updated_on\": \"2021-12-03T19:09:27.076362\",\n",
      "        \"name\": \"mp-149-WANNIER\",\n",
      "        \"state\": \"WAITING\"\n",
      "    },\n",
      "    {\n",
      "        \"fw_id\": 3,\n",
      "        \"created_on\": \"2021-12-03T19:09:27.076342\",\n",
      "        \"updated_on\": \"2021-12-03T19:09:27.076343\",\n",
      "        \"name\": \"mp-149-GW\",\n",
      "        \"state\": \"WAITING\"\n",
      "    },\n",
      "    {\n",
      "        \"fw_id\": 4,\n",
      "        \"created_on\": \"2021-12-03T19:09:27.076193\",\n",
      "        \"updated_on\": \"2021-12-03T19:09:27.076194\",\n",
      "        \"name\": \"mp-149-CONV\",\n",
      "        \"state\": \"WAITING\"\n",
      "    },\n",
      "    {\n",
      "        \"fw_id\": 5,\n",
      "        \"created_on\": \"2021-12-03T19:09:27.074488\",\n",
      "        \"updated_on\": \"2021-12-03T19:09:27.074489\",\n",
      "        \"name\": \"mp-149-WANNIER_CHECK\",\n",
      "        \"state\": \"WAITING\"\n",
      "    },\n",
      "    {\n",
      "        \"fw_id\": 6,\n",
      "        \"created_on\": \"2021-12-03T19:09:27.074281\",\n",
      "        \"updated_on\": \"2021-12-03T19:09:27.074281\",\n",
      "        \"name\": \"mp-149-EMC\",\n",
      "        \"state\": \"WAITING\"\n",
      "    },\n",
      "    {\n",
      "        \"fw_id\": 7,\n",
      "        \"created_on\": \"2021-12-03T19:09:27.074033\",\n",
      "        \"updated_on\": \"2021-12-03T19:09:27.278832\",\n",
      "        \"state\": \"READY\",\n",
      "        \"name\": \"mp-149-SCF\"\n",
      "    }\n",
      "]\n"
     ]
    }
   ],
   "source": [
    "lp='lpad get_fws'\n",
    "!{lp}"
   ]
  }
 ],
 "metadata": {
  "kernelspec": {
   "display_name": "cms",
   "language": "python",
   "name": "cms"
  },
  "language_info": {
   "codemirror_mode": {
    "name": "ipython",
    "version": 3
   },
   "file_extension": ".py",
   "mimetype": "text/x-python",
   "name": "python",
   "nbconvert_exporter": "python",
   "pygments_lexer": "ipython3",
   "version": "3.6.13"
  }
 },
 "nbformat": 4,
 "nbformat_minor": 4
}
