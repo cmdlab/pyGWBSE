{
 "cells": [
  {
   "cell_type": "markdown",
   "metadata": {},
   "source": [
    "These examples show how to create GW-BSE workflow using $py$GWBSE\n",
    "package. We will show how to compute QP bandstructure for wurtzite-AlN\n",
    "at the partial self-consistent (GW$_0$) level by obtaining input \n",
    "structure from Material Project (MP) database. We will also compute the \n",
    "absorption spectra of wurtzite-AlN by solving Bethe-Salpeter equation (BSE)."
   ]
  },
  {
   "cell_type": "code",
   "execution_count": 1,
   "metadata": {},
   "outputs": [],
   "source": [
    "#First let's load the required libraries such as pymatgen and Fireworks\n",
    "import sys\n",
    "from pyGWBSE.make_wflow import read_input, create_wfs\n",
    "from fireworks import LaunchPad\n",
    "from pymatgen.ext.matproj import MPRester\n",
    "from pymatgen import Structure"
   ]
  },
  {
   "cell_type": "code",
   "execution_count": 9,
   "metadata": {
    "scrolled": false
   },
   "outputs": [
    {
     "name": "stdout",
     "output_type": "stream",
     "text": [
      "PARAMS:\r\n",
      "  kpar: 8                   \r\n",
      "  # 'KPAR' tag to be used in VASP simulations\r\n",
      "  \r\n",
      "  ppn: 13                   \r\n",
      "  # NPROCS/KPAR ; NPROCS: number of total processors to be used in VASP simulations  \r\n",
      "  \r\n",
      "  reciprocal_density: 200   \r\n",
      "  # reciprocal density that determines the k-grid using 'automatic_density_by_vol' method of pymatgen\r\n",
      "  \r\n",
      "  encutgw: 100              \r\n",
      "  # ENCUTGW to be used in VASP simulations\r\n",
      "  \r\n",
      "  nbgwfactor: 3             \r\n",
      "  # NBANDS=nbgwfactor x nocc'; nocc' is the smallest multiple of ppn which is larger than number of occupied bands\r\n",
      "  \r\n",
      "  nomegagw: 80              \r\n",
      "  # NOMEGAGW to be used in VASP simulations\r\n",
      "  \r\n",
      "  convparam: NBANDS         \r\n",
      "  # NBANDS/ENCUTGW/NOMEGA parameter to run convergence test for  \r\n",
      "  \r\n",
      "  convsteps: 2              \r\n",
      "  # steps to be used for convergence test\r\n",
      "  \r\n",
      "  conviter: 5               \r\n",
      "  # maximum number of iteration in convergence test \r\n",
      "  \r\n",
      "  enwinbse: 3.0             \r\n",
      "  # energy window in BSE calculations\r\n",
      "\r\n",
      "\r\n",
      "\r\n",
      "STRUCTURE:\r\n",
      "  \r\n",
      "  source: MID               \r\n",
      "  # MID/POSCAR MID:get structure from MP database, POSCAR: structure from a file            \r\n",
      "  \r\n",
      "  mat_name: NEW_MAT         \r\n",
      "  # unique identifier in the database when source=POSCAR\r\n",
      "  \r\n",
      "  material_id: mp-661       \r\n",
      "  # material_id of the input structure in MP database\r\n",
      "  \r\n",
      "  \r\n",
      "    \r\n",
      "WFLOW_DESIGN:\r\n",
      "  \r\n",
      "  skip_emc: false           \r\n",
      "  # set true to skip effective mass calculation                \r\n",
      "  \r\n",
      "  skip_wannier: false       \r\n",
      "  # set true to skip wannier bandstructure interpolation\r\n",
      "  \r\n",
      "  skip_conv: false          \r\n",
      "  # set true to skip convergence test\r\n",
      "  \r\n",
      "  skip_gw: false            \r\n",
      "  # set true to skip GW calculation\r\n",
      "  \r\n",
      "  scgw: true                \r\n",
      "  # set true to perform self-consistent GW instead of G0W0\r\n",
      "  \r\n",
      "  skip_bse: false            \r\n",
      "  # set true to skip BSE calculation\r\n"
     ]
    }
   ],
   "source": [
    "#Now let's check the content of the 'input.yaml' file.\n",
    "!cat 'input.yaml'"
   ]
  },
  {
   "cell_type": "code",
   "execution_count": 3,
   "metadata": {},
   "outputs": [],
   "source": [
    "\"\"\"\n",
    "    'read_input' function reads input parameters from input.yaml file.\n",
    "    \n",
    "     Returns:\n",
    "    \n",
    "     structure: pymatgen structure object for the input structure\n",
    "     input_dict: a dictionary of all the input paramters\n",
    "     \n",
    "\"\"\"\n",
    "\n",
    "structure, input_dict = read_input()"
   ]
  },
  {
   "cell_type": "code",
   "execution_count": 4,
   "metadata": {
    "scrolled": true
   },
   "outputs": [
    {
     "name": "stdout",
     "output_type": "stream",
     "text": [
      "-------------------------------------------\n",
      "material:  mp-661\n",
      "Information for efficient parallelization\n",
      "You have  8 occupied bands\n",
      "You have  76 kpoints\n",
      "You have  [[12, 12, 7]] k-grid\n",
      "Will perform convergence test for:  NBANDS\n",
      "Values that will be used for convergence test: 39 65 91 117 143 \n",
      "KPAR= 8\n",
      "reciprocal_density= 200\n",
      "BSE calculation will include bands in the energy window (eV)= 3.0\n",
      "-------------------------------------------\n"
     ]
    },
    {
     "name": "stderr",
     "output_type": "stream",
     "text": [
      "/home/tatha/anaconda3/envs/cms/lib/python3.6/site-packages/pymatgen/io/vasp/sets.py:447: BadInputSetWarning:\n",
      "\n",
      "Overriding the POTCAR functional is generally not recommended  as it significantly affect the results of calculations and compatibility with other calculations done with the same input set. Note that some POTCAR symbols specified in the configuration file may not be available in the selected functional.\n",
      "\n"
     ]
    }
   ],
   "source": [
    "\"\"\"\n",
    "    'create_wfs' function creates the GW-BSE workflow based on input specification.\n",
    "    \n",
    "    Args:\n",
    "    \n",
    "     structure: pymatgen structure object for the input structure\n",
    "     input_dict: a dictionary of all the input paramters\n",
    "     \n",
    "    Returns:\n",
    "    \n",
    "     wf_gwbse: GW-BSE workflow as a Fireworks workflow object.\n",
    "         \n",
    "\"\"\"\n",
    "\n",
    "wf_gwbse=create_wfs(structure, input_dict)"
   ]
  },
  {
   "cell_type": "markdown",
   "metadata": {},
   "source": [
    "The error message \"Overriding the POTCAR functional is generally not ...\" is due to changing default POTCAR symbols to GW POTCAR files. One can choose other POTCARs by modifying inputset.yaml file. "
   ]
  },
  {
   "cell_type": "code",
   "execution_count": 5,
   "metadata": {},
   "outputs": [],
   "source": [
    "#Load the Fireworks Launchpad \n",
    "lpad = LaunchPad.auto_load() "
   ]
  },
  {
   "cell_type": "code",
   "execution_count": 6,
   "metadata": {},
   "outputs": [
    {
     "name": "stdout",
     "output_type": "stream",
     "text": [
      "2022-09-14 14:27:54,737 INFO Added a workflow. id_map: {-7: 1, -6: 2, -5: 3, -4: 4, -3: 5, -2: 6, -1: 7}\n"
     ]
    },
    {
     "data": {
      "text/plain": [
       "{-7: 1, -6: 2, -5: 3, -4: 4, -3: 5, -2: 6, -1: 7}"
      ]
     },
     "execution_count": 6,
     "metadata": {},
     "output_type": "execute_result"
    }
   ],
   "source": [
    "#Add the workflow you just created\n",
    "lpad.add_wf(wf_gwbse)"
   ]
  },
  {
   "cell_type": "code",
   "execution_count": 7,
   "metadata": {
    "scrolled": false
   },
   "outputs": [
    {
     "name": "stdout",
     "output_type": "stream",
     "text": [
      "/home/tatha/anaconda3/envs/cms/lib/python3.6/site-packages/pymatgen/io/vasp/sets.py:447: BadInputSetWarning:\n",
      "\n",
      "Overriding the POTCAR functional is generally not recommended  as it significantly affect the results of calculations and compatibility with other calculations done with the same input set. Note that some POTCAR symbols specified in the configuration file may not be available in the selected functional.\n",
      "\n",
      "[\n",
      "    {\n",
      "        \"fw_id\": 1,\n",
      "        \"created_on\": \"2022-09-14T21:27:54.144377\",\n",
      "        \"updated_on\": \"2022-09-14T21:27:54.144378\",\n",
      "        \"state\": \"PAUSED\",\n",
      "        \"name\": \"mp-661-BSE\"\n",
      "    },\n",
      "    {\n",
      "        \"fw_id\": 2,\n",
      "        \"created_on\": \"2022-09-14T21:27:54.144357\",\n",
      "        \"updated_on\": \"2022-09-14T21:27:54.144358\",\n",
      "        \"name\": \"mp-661-WANNIER\",\n",
      "        \"state\": \"WAITING\"\n",
      "    },\n",
      "    {\n",
      "        \"fw_id\": 3,\n",
      "        \"created_on\": \"2022-09-14T21:27:54.144341\",\n",
      "        \"updated_on\": \"2022-09-14T21:27:54.144341\",\n",
      "        \"name\": \"mp-661-GW\",\n",
      "        \"state\": \"WAITING\"\n",
      "    },\n",
      "    {\n",
      "        \"fw_id\": 4,\n",
      "        \"created_on\": \"2022-09-14T21:27:54.144271\",\n",
      "        \"updated_on\": \"2022-09-14T21:27:54.144272\",\n",
      "        \"name\": \"mp-661-CONV\",\n",
      "        \"state\": \"WAITING\"\n",
      "    },\n",
      "    {\n",
      "        \"fw_id\": 5,\n",
      "        \"created_on\": \"2022-09-14T21:27:54.141887\",\n",
      "        \"updated_on\": \"2022-09-14T21:27:54.141888\",\n",
      "        \"name\": \"mp-661-WANNIER_CHECK\",\n",
      "        \"state\": \"WAITING\"\n",
      "    },\n",
      "    {\n",
      "        \"fw_id\": 6,\n",
      "        \"created_on\": \"2022-09-14T21:27:54.141655\",\n",
      "        \"updated_on\": \"2022-09-14T21:27:54.141656\",\n",
      "        \"name\": \"mp-661-EMC\",\n",
      "        \"state\": \"WAITING\"\n",
      "    },\n",
      "    {\n",
      "        \"fw_id\": 7,\n",
      "        \"created_on\": \"2022-09-14T21:27:54.141378\",\n",
      "        \"updated_on\": \"2022-09-14T21:27:54.531247\",\n",
      "        \"state\": \"READY\",\n",
      "        \"name\": \"mp-661-SCF\"\n",
      "    }\n",
      "]\n"
     ]
    }
   ],
   "source": [
    "#Check the Fireworks loaded to the Launchpad\n",
    "lp='lpad get_fws'\n",
    "!{lp}"
   ]
  },
  {
   "cell_type": "markdown",
   "metadata": {},
   "source": [
    "As you can see there are 7 fireworks with prefix `mp-661` were loaded to the Launchpad. \n",
    "Also one should note that the BSE Firework is in a `PAUSED` state by default. This is \n",
    "because, the k-point parallelization is not implemented for BSE calculation in VASP. \n",
    "Therefore, to make the number of bands in the WAVEDER file a multiple of number of \n",
    "processor used (requirement for VASP, otherwise it will change the NBANDS value) we \n",
    "need to run the BSE workflow on NPROCS=NPROCS$'$/KPAR, where NPROCS$'$ is the number \n",
    "of processors used for the `fw_id: 2-7`. Now that we have all the Fireworks in the \n",
    "Launchpad we can run them and use the postprocessing scripts to analyze the results once \n",
    "they are `COMPLETED`."
   ]
  }
 ],
 "metadata": {
  "kernelspec": {
   "display_name": "cms",
   "language": "python",
   "name": "cms"
  },
  "language_info": {
   "codemirror_mode": {
    "name": "ipython",
    "version": 3
   },
   "file_extension": ".py",
   "mimetype": "text/x-python",
   "name": "python",
   "nbconvert_exporter": "python",
   "pygments_lexer": "ipython3",
   "version": "3.6.13"
  }
 },
 "nbformat": 4,
 "nbformat_minor": 4
}
