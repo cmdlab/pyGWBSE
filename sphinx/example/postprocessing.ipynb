{
 "cells": [
  {
   "cell_type": "markdown",
   "metadata": {},
   "source": [
    "These examples show how to analyze and visualize results after running the $py$GWBSE workflow. You need to first run the `create_workflow.ipynb` example to create and execute the workflow and then you can run these examples. All the output results are automatically stored by $py$GWBSE in the GW-BSE database so this example needs to access the database to run. "
   ]
  },
  {
   "cell_type": "markdown",
   "metadata": {},
   "source": [
    "Let's start by loading the required libraries such as matplotlib and pymongo "
   ]
  },
  {
   "cell_type": "code",
   "execution_count": 1,
   "metadata": {},
   "outputs": [],
   "source": [
    "from pymongo import MongoClient\n",
    "import matplotlib.pyplot as plt\n",
    "import numpy as np"
   ]
  },
  {
   "cell_type": "markdown",
   "metadata": {},
   "source": [
    "We have to specify details of the database we have used earlier to create and run the $py$GWBSE workflow."
   ]
  },
  {
   "cell_type": "code",
   "execution_count": 2,
   "metadata": {
    "scrolled": true
   },
   "outputs": [],
   "source": [
    "#hostname = <address of the database>\n",
    "#port = <port number>\n",
    "#username = <user name>\n",
    "#password = <user password> \n",
    "#dbname = <name of the database>"
   ]
  },
  {
   "cell_type": "markdown",
   "metadata": {},
   "source": [
    "Now we can connect to the database using pymongo."
   ]
  },
  {
   "cell_type": "code",
   "execution_count": 4,
   "metadata": {},
   "outputs": [
    {
     "data": {
      "text/plain": [
       "True"
      ]
     },
     "execution_count": 4,
     "metadata": {},
     "output_type": "execute_result"
    }
   ],
   "source": [
    "client = MongoClient(hostname, port)\n",
    "db = client[dbname]\n",
    "db.authenticate(username, password)"
   ]
  },
  {
   "cell_type": "markdown",
   "metadata": {},
   "source": [
    "First let's analyze the results for AlN workflow. As you might remember `mp-661` has been used as the unique identifier for AlN in the database when we created the workflow earlier using `create_workflow.ipynb`."
   ]
  },
  {
   "cell_type": "code",
   "execution_count": 5,
   "metadata": {},
   "outputs": [],
   "source": [
    "mid='mp-661'"
   ]
  },
  {
   "cell_type": "markdown",
   "metadata": {},
   "source": [
    "Let's check how the convergence calculation went,"
   ]
  },
  {
   "cell_type": "code",
   "execution_count": 6,
   "metadata": {
    "scrolled": true
   },
   "outputs": [
    {
     "name": "stdout",
     "output_type": "stream",
     "text": [
      "Convergence_Iteration: 1 65  5.55 False\n",
      "Convergence_Iteration: 2 91  5.59 True\n"
     ]
    }
   ],
   "source": [
    "eqpcollection = db.get_collection('QP_Results')\n",
    "for x in eqpcollection.find({'material_id': mid, \"task_label\": { \"$regex\": 'Convergence'}}):\n",
    "    tl=x[\"task_label\"]\n",
    "    nbands=x[\"incar\"][\"NBANDS\"]\n",
    "    gap=x[\"indirect_gap\"]\n",
    "    ifconv=x['ifconv']\n",
    "    print(tl, nbands, '%5.2f' %gap, ifconv)"
   ]
  },
  {
   "cell_type": "markdown",
   "metadata": {},
   "source": [
    "As you can see the workflow computed QP gap using NBANDS value of 65 and 91 and found that the gap didn't change by more than 0.1. As a result the Firework set `ifconv` tag to True and stopped. \n",
    "\n",
    "We can also check what was the effect of partial self-consistent iterations on the QP gap"
   ]
  },
  {
   "cell_type": "code",
   "execution_count": 7,
   "metadata": {},
   "outputs": [
    {
     "name": "stdout",
     "output_type": "stream",
     "text": [
      "scGW_Iteration: 1  5.59 False\n",
      "scGW_Iteration: 2  6.08 False\n",
      "scGW_Iteration: 3  6.24 False\n",
      "scGW_Iteration: 4  6.28 True\n"
     ]
    }
   ],
   "source": [
    "eqpcollection = db.get_collection('QP_Results')\n",
    "for x in eqpcollection.find({'material_id': mid, \"task_label\": { \"$regex\": 'scGW'}, 'job_tag': 'GW0'}):\n",
    "    tl=x[\"task_label\"]\n",
    "    gap=x[\"indirect_gap\"]\n",
    "    ifconv=x['ifconv']\n",
    "    print(tl, '%5.2f' %gap, ifconv)"
   ]
  },
  {
   "cell_type": "markdown",
   "metadata": {},
   "source": [
    "As you can see the workflow continued the partial self-consistent (GW$_0$) calculation untill the QP gap is converged within 0.1 eV. After that the Firework set `ifconv` tag to True and stopped. The QP gap of AlN at the G$_0$W$_0$ level turns out to be 5.59 eV and it is 6.28 eV at the GW$_0$ level.\n",
    "\n",
    "Now let's retrieve the data to plot DFT bandstructure computed by VASP and compare it with wannier extrapolated bandstructure. "
   ]
  },
  {
   "cell_type": "code",
   "execution_count": 8,
   "metadata": {},
   "outputs": [],
   "source": [
    "collection = db.get_collection('WANNIER_Results')\n",
    "for x in collection.find({'task_label' : \"CHECK_WANNIER_INTERPOLATION\", 'material_id' : mid}):\n",
    "\n",
    "    kpts=np.array(x[\"wannier_kpoints\"]) \n",
    "    #x coordinates of energy values to plot bandstructure\n",
    "\n",
    "    eigs_wann=np.array(x[\"wannier_eigenvalues\"]) \n",
    "    #wannier interpolated energies to plot bandstructure\n",
    "    \n",
    "    eigs_vasp=np.transpose(np.array(x[\"actual_eigenvalues\"])) \n",
    "    #vasp computed energies to plot bandstructure \n",
    "    \n",
    "    spkptls=x[\"special_kpoint_labels\"] \n",
    "    #labels of special k-points in the bandstructure    \n",
    "    spkptcs=x[\"special_kpoint_coordinates\"] \n",
    "    #x coordinates of special  k-points in the bandstructure "
   ]
  },
  {
   "cell_type": "markdown",
   "metadata": {},
   "source": [
    "Here is generic function to plot the bandstructure  "
   ]
  },
  {
   "cell_type": "code",
   "execution_count": 9,
   "metadata": {},
   "outputs": [],
   "source": [
    "def plot_bandstructure(kpts,eigs,spkptls,spkptcs,cl,lb,ls,lw):\n",
    "    \n",
    "    \"\"\"\n",
    "    kpts: 1-D array of x coordinates of energy values to plot bandstructure\n",
    "    eigs: 2-D array (band index, k-point index) of energies to plot bandstructure \n",
    "    spkptls: 1-D array of labels of special k-points in the bandstructure \n",
    "    spkptcs: 1-D array of x coordinates of special k-points in the bandstructure \n",
    "    \"\"\"\n",
    "    \n",
    "    nb=np.shape(eigs)[0]\n",
    "    for j in range(nb):\n",
    "        if j==0:\n",
    "            plt.plot(kpts, eigs[j,:], c=cl, lw=lw, label=lb, ls=ls)\n",
    "        else:\n",
    "            plt.plot(kpts, eigs[j,:], c=cl, lw=lw, ls=ls)\n",
    "    for spkptc in spkptcs:\n",
    "        plt.axvline(spkptc,lw=2,c='k')\n",
    "\n",
    "    plt.ylabel(r'E-E$_{VBM}$')\n",
    "    plt.xticks(spkptcs, spkptls)\n",
    "    plt.xlim(spkptcs[0],max(spkptcs))"
   ]
  },
  {
   "cell_type": "markdown",
   "metadata": {},
   "source": [
    "We need to modify special characters like $\\Gamma$ in a format suitable for matplotlib "
   ]
  },
  {
   "cell_type": "code",
   "execution_count": 10,
   "metadata": {},
   "outputs": [
    {
     "name": "stdout",
     "output_type": "stream",
     "text": [
      "['\\\\GAMMA', 'M', 'K', '\\\\GAMMA', 'A', 'L', 'H', 'A|L', 'M|K', 'H']\n",
      "['$\\\\Gamma$', 'M', 'K', '$\\\\Gamma$', 'A', 'L', 'H', 'A|L', 'M|K', 'H']\n"
     ]
    }
   ],
   "source": [
    "print(spkptls)\n",
    "spkptls = [r'$\\Gamma$' if item == '\\\\GAMMA' else item for item in spkptls]\n",
    "print(spkptls)"
   ]
  },
  {
   "cell_type": "markdown",
   "metadata": {},
   "source": [
    "Now let's use `plot_bandstructure` function to check how good the wannier interpolation is "
   ]
  },
  {
   "cell_type": "code",
   "execution_count": 11,
   "metadata": {
    "scrolled": false
   },
   "outputs": [
    {
     "data": {
      "image/png": "[encoded data removed]",
      "text/plain": [
       "<Figure size 432x288 with 1 Axes>"
      ]
     },
     "metadata": {
      "needs_background": "light"
     },
     "output_type": "display_data"
    }
   ],
   "source": [
    "plot_bandstructure(kpts[0,:],eigs_vasp,spkptls,spkptcs,'r','VASP','-',3)\n",
    "plot_bandstructure(kpts[0,:],eigs_wann,spkptls,spkptcs,'k','WANNIER','--',2)\n",
    "plt.ylim(-5,10)\n",
    "plt.legend()\n",
    "plt.show()"
   ]
  },
  {
   "cell_type": "markdown",
   "metadata": {},
   "source": [
    "Looks like the wannier interpolation is pretty accurate. The bandstructure from wannier interpolation reproduces the bandstructure obtained from VASP calculation throughout the Brillouin zone (BZ).\n",
    "\n",
    "Now let's retrieve the wannier interpolated QP energies to plot GW bandstructure "
   ]
  },
  {
   "cell_type": "code",
   "execution_count": 12,
   "metadata": {},
   "outputs": [],
   "source": [
    "collection = db.get_collection('WANNIER_Results')\n",
    "for x in collection.find({'task_label' : \"GW_BANDSTRUCTURE\", 'material_id' : mid}):\n",
    "    eigs_gw=np.array(x[\"wannier_eigenvalues\"]) #wannier interpolated QP energies to plot GW bandstructure"
   ]
  },
  {
   "cell_type": "markdown",
   "metadata": {},
   "source": [
    "Let's use the `plot_bandstructure` function and compare the DFT vs GW bandstructure"
   ]
  },
  {
   "cell_type": "code",
   "execution_count": 13,
   "metadata": {},
   "outputs": [
    {
     "data": {
      "image/png": "[encoded data removed]",
      "text/plain": [
       "<Figure size 432x288 with 1 Axes>"
      ]
     },
     "metadata": {},
     "output_type": "display_data"
    }
   ],
   "source": [
    "fig, ax = plt.subplots(facecolor='w')\n",
    "plot_bandstructure(kpts[0,:],eigs_vasp,spkptls,spkptcs,'r','DFT (VASP)','-',3)\n",
    "plot_bandstructure(kpts[0,:],eigs_wann,spkptls,spkptcs,'k','DFT (WANNIER)','--',2)\n",
    "plot_bandstructure(kpts[0,:],eigs_gw,spkptls,spkptcs,'b','GW','-',2)\n",
    "plt.ylim(-5,10)\n",
    "plt.legend()\n",
    "plt.show()"
   ]
  },
  {
   "cell_type": "markdown",
   "metadata": {},
   "source": [
    "Now let's retrieve the projections of KS orbitals on atomic orbitals which can be used to plot orbital resolved DOS (PDOS)"
   ]
  },
  {
   "cell_type": "code",
   "execution_count": 14,
   "metadata": {},
   "outputs": [],
   "source": [
    "eqpcollection = db.get_collection('EPS_Results')\n",
    "for x in eqpcollection.find({\"material_id\": mid}):\n",
    "    proj_eig=x[\"projected_eigs\"] #projections of KS orbitals on atomic orbitals\n",
    "    eigs=x[\"ks_energies\"] #KS energies  \n",
    "    vbm=x[\"vbm\"] #valence band maxima\n",
    "    kwg=x[\"kpoint_weights\"] #weights of symmetry reduced k-points\n",
    "\n",
    "    \n",
    "#This was a non spin polarized calculation so there is only one spin index\n",
    "for spin, v in proj_eig.items():\n",
    "    peig=np.array(v)\n",
    "\n",
    "for spin, v in eigs.items():\n",
    "    eig=np.array(v)\n",
    "\n",
    "#setting the VBM as zero in energy axis\n",
    "eig=np.array(eig)-vbm"
   ]
  },
  {
   "cell_type": "markdown",
   "metadata": {},
   "source": [
    "To obtain PDOS from projection of KS wavefunction onto atomic oribitals we have written the following functions"
   ]
  },
  {
   "cell_type": "code",
   "execution_count": 15,
   "metadata": {},
   "outputs": [],
   "source": [
    "#Gaussian Function\n",
    "def gaussian(x,x0,sigma):\n",
    "    y = (1 / sigma*np.sqrt(2 * np.pi)) * np.exp(-((x-x0)/sigma) ** 2 / 2.)\n",
    "    return y\n",
    "\n",
    "#Function to compute PDOS from projections\n",
    "\n",
    "def calc_pdos(ias,ios,peig,eig,kwg,enmin,enmax,n,sigma):\n",
    "    \"\"\"\n",
    "    \n",
    "    Args:\n",
    "    \n",
    "    ias: list of atom indices to be included in PDOS\n",
    "    ios: list of orbital indices to be included in PDOS\n",
    "    peig: 4-D array (k-point index, band_index, atom_index, orbital_index) \n",
    "            contaning projections of KS wavefunctions on atomic oritals\n",
    "    eig: 2-D array (k-point index, band index) of energy eigenvalues\n",
    "    kwg: 1-D array of k-point weights\n",
    "    enmin: minimum of the energy window to plot PDOS\n",
    "    enmax: maximum of the energy window to plot PDOS\n",
    "    n: number of energy values to be used in PDOS \n",
    "    sigma: width of the Gaussian smearing \n",
    "    \n",
    "    Returns:\n",
    "    \n",
    "    x: energy values   \n",
    "    t: total DOS\n",
    "    y: PDOS\n",
    "    \n",
    "    \"\"\"\n",
    "    nk=np.shape(peig)[0]\n",
    "    nb=np.shape(peig)[1]\n",
    "    na=np.shape(peig)[2]\n",
    "    no=np.shape(peig)[3]\n",
    "    ens=np.linspace(enmin,enmax,num=n)\n",
    "\n",
    "    x=[]\n",
    "    y=[]\n",
    "    t=[]\n",
    "    for en in ens:\n",
    "        den=0\n",
    "        ten=0\n",
    "        for ik in range(nk):\n",
    "            for ib in range(nb):\n",
    "                eigv=eig[ik][ib][0]\n",
    "                smr=gaussian(eigv,en,sigma)\n",
    "                ten=ten+smr*kwg[ik]\n",
    "                for ia in ias:\n",
    "                    for io in ios:\n",
    "                        den=den+peig[ik][ib][ia][io]*smr*kwg[ik]\n",
    "        x.append(en)\n",
    "        y.append(den/np.pi)\n",
    "        t.append(ten/np.pi)\n",
    "    return x,t,y"
   ]
  },
  {
   "cell_type": "markdown",
   "metadata": {},
   "source": [
    "Now let's use the `calc_pdos` function we just defined to plot PDOS of Al(p) and N(p) states in AlN "
   ]
  },
  {
   "cell_type": "code",
   "execution_count": 16,
   "metadata": {},
   "outputs": [
    {
     "data": {
      "image/png": "[encoded data removed]",
      "text/plain": [
       "<Figure size 432x288 with 1 Axes>"
      ]
     },
     "metadata": {
      "needs_background": "light"
     },
     "output_type": "display_data"
    }
   ],
   "source": [
    "Al_list=[0,1] #atom 0 and 1 are Al\n",
    "N_list=[2,3]  #atom 2 and 3 are N\n",
    "orbital_list=[1,2,3] # orbital 1,2,3 are p- orbitals\n",
    "\n",
    "#Other paramters to compute PDOS\n",
    "\n",
    "enmin=-5 \n",
    "enmax=10\n",
    "num=1000\n",
    "sigma=0.2\n",
    "\n",
    "#Compute PDOS and total DOS\n",
    "en,tdos,pdos_Al=calc_pdos(Al_list,orbital_list,peig,eig,kwg,enmin,enmax,num,sigma)\n",
    "en,tdos,pdos_N=calc_pdos(N_list,orbital_list,peig,eig,kwg,enmin,enmax,num,sigma)\n",
    "#Now we can plot PDOS and total DOS\n",
    "plt.plot(en,tdos,label='Total',c='r')\n",
    "plt.plot(en,pdos_N,label='N(p)',c='b')\n",
    "plt.plot(en,pdos_Al,label='Al(p)',c='k')\n",
    "plt.xlabel(r'E-E$_{VBM}$ in eV')\n",
    "plt.ylabel('DOS (states/eV)')\n",
    "plt.xlim(enmin,enmax)\n",
    "plt.legend()\n",
    "plt.show()"
   ]
  },
  {
   "cell_type": "markdown",
   "metadata": {},
   "source": [
    "We can also use QP energies instead of KS energies to plot QP DOS/PDOS. To do that, first let's retreive QP energies and QP VBM from the database"
   ]
  },
  {
   "cell_type": "code",
   "execution_count": 17,
   "metadata": {
    "scrolled": true
   },
   "outputs": [
    {
     "ename": "IndexError",
     "evalue": "index 48 is out of bounds for axis 0 with size 48",
     "output_type": "error",
     "traceback": [
      "\u001b[0;31m---------------------------------------------------------------------------\u001b[0m",
      "\u001b[0;31mIndexError\u001b[0m                                Traceback (most recent call last)",
      "\u001b[0;32m<ipython-input-17-0f110a890150>\u001b[0m in \u001b[0;36m<module>\u001b[0;34m\u001b[0m\n\u001b[1;32m     12\u001b[0m \u001b[0;31m#Compute PDOS and DOS with QP correction\u001b[0m\u001b[0;34m\u001b[0m\u001b[0;34m\u001b[0m\u001b[0;34m\u001b[0m\u001b[0m\n\u001b[1;32m     13\u001b[0m \u001b[0;34m\u001b[0m\u001b[0m\n\u001b[0;32m---> 14\u001b[0;31m \u001b[0men\u001b[0m\u001b[0;34m,\u001b[0m\u001b[0mtdos_gw\u001b[0m\u001b[0;34m,\u001b[0m\u001b[0mpdos_gw\u001b[0m\u001b[0;34m=\u001b[0m\u001b[0mcalc_pdos\u001b[0m\u001b[0;34m(\u001b[0m\u001b[0mN_list\u001b[0m\u001b[0;34m,\u001b[0m\u001b[0morbital_list\u001b[0m\u001b[0;34m,\u001b[0m\u001b[0mpeig\u001b[0m\u001b[0;34m,\u001b[0m\u001b[0meig_gw\u001b[0m\u001b[0;34m,\u001b[0m\u001b[0mkwg\u001b[0m\u001b[0;34m,\u001b[0m\u001b[0menmin\u001b[0m\u001b[0;34m,\u001b[0m\u001b[0menmax\u001b[0m\u001b[0;34m,\u001b[0m\u001b[0mnum\u001b[0m\u001b[0;34m,\u001b[0m\u001b[0msigma\u001b[0m\u001b[0;34m)\u001b[0m\u001b[0;34m\u001b[0m\u001b[0;34m\u001b[0m\u001b[0m\n\u001b[0m\u001b[1;32m     15\u001b[0m \u001b[0;34m\u001b[0m\u001b[0m\n\u001b[1;32m     16\u001b[0m \u001b[0;31m#Now we can plot PDOS and total DOS with and without QP correction\u001b[0m\u001b[0;34m\u001b[0m\u001b[0;34m\u001b[0m\u001b[0;34m\u001b[0m\u001b[0m\n",
      "\u001b[0;32m<ipython-input-15-9bb5678c5d64>\u001b[0m in \u001b[0;36mcalc_pdos\u001b[0;34m(ias, ios, peig, eig, kwg, enmin, enmax, n, sigma)\u001b[0m\n\u001b[1;32m     43\u001b[0m         \u001b[0;32mfor\u001b[0m \u001b[0mik\u001b[0m \u001b[0;32min\u001b[0m \u001b[0mrange\u001b[0m\u001b[0;34m(\u001b[0m\u001b[0mnk\u001b[0m\u001b[0;34m)\u001b[0m\u001b[0;34m:\u001b[0m\u001b[0;34m\u001b[0m\u001b[0;34m\u001b[0m\u001b[0m\n\u001b[1;32m     44\u001b[0m             \u001b[0;32mfor\u001b[0m \u001b[0mib\u001b[0m \u001b[0;32min\u001b[0m \u001b[0mrange\u001b[0m\u001b[0;34m(\u001b[0m\u001b[0mnb\u001b[0m\u001b[0;34m)\u001b[0m\u001b[0;34m:\u001b[0m\u001b[0;34m\u001b[0m\u001b[0;34m\u001b[0m\u001b[0m\n\u001b[0;32m---> 45\u001b[0;31m                 \u001b[0meigv\u001b[0m\u001b[0;34m=\u001b[0m\u001b[0meig\u001b[0m\u001b[0;34m[\u001b[0m\u001b[0mik\u001b[0m\u001b[0;34m]\u001b[0m\u001b[0;34m[\u001b[0m\u001b[0mib\u001b[0m\u001b[0;34m]\u001b[0m\u001b[0;34m[\u001b[0m\u001b[0;36m0\u001b[0m\u001b[0;34m]\u001b[0m\u001b[0;34m\u001b[0m\u001b[0;34m\u001b[0m\u001b[0m\n\u001b[0m\u001b[1;32m     46\u001b[0m                 \u001b[0msmr\u001b[0m\u001b[0;34m=\u001b[0m\u001b[0mgaussian\u001b[0m\u001b[0;34m(\u001b[0m\u001b[0meigv\u001b[0m\u001b[0;34m,\u001b[0m\u001b[0men\u001b[0m\u001b[0;34m,\u001b[0m\u001b[0msigma\u001b[0m\u001b[0;34m)\u001b[0m\u001b[0;34m\u001b[0m\u001b[0;34m\u001b[0m\u001b[0m\n\u001b[1;32m     47\u001b[0m                 \u001b[0mten\u001b[0m\u001b[0;34m=\u001b[0m\u001b[0mten\u001b[0m\u001b[0;34m+\u001b[0m\u001b[0msmr\u001b[0m\u001b[0;34m*\u001b[0m\u001b[0mkwg\u001b[0m\u001b[0;34m[\u001b[0m\u001b[0mik\u001b[0m\u001b[0;34m]\u001b[0m\u001b[0;34m\u001b[0m\u001b[0;34m\u001b[0m\u001b[0m\n",
      "\u001b[0;31mIndexError\u001b[0m: index 48 is out of bounds for axis 0 with size 48"
     ]
    }
   ],
   "source": [
    "eqpcollection = db.get_collection('QP_Results')\n",
    "for x in eqpcollection.find({'material_id': mid, \"task_label\": { \"$regex\": 'scGW'}, 'ifconv': True}):\n",
    "    eigs_gw=x[\"qp_energies\"]\n",
    "    vbm_gw=x[\"vbm\"]\n",
    "    \n",
    "for spin, v in eigs_gw.items():\n",
    "    eig_gw=np.array(v)\n",
    "\n",
    "#setting the VBM of QP energies as zero in energy axis\n",
    "eig_gw=np.array(eig_gw)-vbm_gw\n",
    "\n",
    "#Compute PDOS and DOS with QP correction \n",
    "\n",
    "en,tdos_gw,pdos_gw=calc_pdos(N_list,orbital_list,peig,eig_gw,kwg,enmin,enmax,num,sigma)\n",
    "\n",
    "#Now we can plot PDOS and total DOS with and without QP correction  \n",
    "\n",
    "plt.plot(en,pdos_N,label='N(p)-DFT',c='b')\n",
    "plt.plot(en,pdos_gw,label='N(p)-GW',c='r')\n",
    "plt.xlabel(r'E-E$_{VBM}$ in eV')\n",
    "plt.ylabel('DOS (states/eV)')\n",
    "plt.xlim(enmin,enmax)\n",
    "plt.legend()\n",
    "plt.show()"
   ]
  },
  {
   "cell_type": "markdown",
   "metadata": {},
   "source": [
    "Now Let's look at the static dielectric tensor of AlN computed at the DFT level "
   ]
  },
  {
   "cell_type": "code",
   "execution_count": null,
   "metadata": {},
   "outputs": [],
   "source": [
    "eqpcollection = db.get_collection('EPS_Results')\n",
    "for x in eqpcollection.find({\"material_id\": mid}):\n",
    "    dc=x['dielectric constant']\n",
    "print(dc)"
   ]
  },
  {
   "cell_type": "markdown",
   "metadata": {},
   "source": [
    "dielectric constant perpendicular to c-axis ($\\epsilon^{\\perp}_{\\infty}$). Note that, because of hexagonal symmetry `dc[0][0]` and `dc[1][1]` is the same. "
   ]
  },
  {
   "cell_type": "code",
   "execution_count": null,
   "metadata": {},
   "outputs": [],
   "source": [
    "dc[0][0]"
   ]
  },
  {
   "cell_type": "markdown",
   "metadata": {},
   "source": [
    "dielectric constant parallel to c-axis ($\\epsilon^{\\parallel}_{\\infty}$)"
   ]
  },
  {
   "cell_type": "code",
   "execution_count": null,
   "metadata": {},
   "outputs": [],
   "source": [
    "dc[2][2]"
   ]
  },
  {
   "cell_type": "markdown",
   "metadata": {},
   "source": [
    "Next, let's look at the effective masses of AlN"
   ]
  },
  {
   "cell_type": "code",
   "execution_count": null,
   "metadata": {},
   "outputs": [],
   "source": [
    "eqpcollection = db.get_collection('EMC_Results')\n",
    "for x in eqpcollection.find({\"material_id\": mid}):\n",
    "    hmass=x['hole_effective_mass']\n",
    "    emass=x['electron_effective_mass']"
   ]
  },
  {
   "cell_type": "markdown",
   "metadata": {},
   "source": [
    "`hmass` and `emass` are the dictionaries containing hole and electron\n",
    "effective masses respectively. The keys for each effective mass values \n",
    "are constructed as (ibnd,dir1,dir2) where, ibnd is the index of the \n",
    "band from which the effective mass is computed in the direction from \n",
    "special k-point dir1 to special k-point dir2. "
   ]
  },
  {
   "cell_type": "code",
   "execution_count": null,
   "metadata": {
    "scrolled": false
   },
   "outputs": [],
   "source": [
    "#hole effective masses \n",
    "\n",
    "for key, value in hmass.items():\n",
    "    print(key, '%5.2f' %(value))"
   ]
  },
  {
   "cell_type": "code",
   "execution_count": null,
   "metadata": {
    "scrolled": false
   },
   "outputs": [],
   "source": [
    "#elctron effective masses \n",
    "\n",
    "for key, value in emass.items():\n",
    "    print(key, '%5.2f' %value)"
   ]
  },
  {
   "cell_type": "markdown",
   "metadata": {},
   "source": [
    "AlN has a hexagonal crystal structure. The VBM as well as the CBM is located at the $\\Gamma$ point. Both the VBM (8$^{th}$ band) and CBM (9$^{th}$ band) in non-degenerate. From the bandstructure (computed earlier) we can see that there can be 3 special directions in the BZ along which the effective masses can be evaluated for the band edges. Which are, \n",
    "\n",
    "1. $\\Gamma$ (0,0,0) $\\rightarrow$ M (1/2,0,0)\n",
    "2. $\\Gamma$ (0,0,0) $\\rightarrow$ K (1/3,1/3,0)\n",
    "3. $\\Gamma$ (0,0,0) $\\rightarrow$ A (0,0,1/2)\n",
    "\n",
    "First two directions are perpendicular to c-axis and will provide $m^{\\perp}$ and the third is parallel to c-axis\n",
    "and will provide $m^{\\parallel}$"
   ]
  },
  {
   "cell_type": "markdown",
   "metadata": {},
   "source": [
    "Now we will plot the absorption spectra of AlN from the results stored by workflow created by `create_workflow.ipynb` example."
   ]
  },
  {
   "cell_type": "markdown",
   "metadata": {},
   "source": [
    "First let's retrieve the data to plot the absorption spectra and analyze results from BSE calculation "
   ]
  },
  {
   "cell_type": "code",
   "execution_count": null,
   "metadata": {},
   "outputs": [],
   "source": [
    "mid='mp-661'"
   ]
  },
  {
   "cell_type": "code",
   "execution_count": null,
   "metadata": {
    "scrolled": true
   },
   "outputs": [],
   "source": [
    "eqpcollection = db.get_collection('BSE_Results')\n",
    "for x in eqpcollection.find({\"material_id\": 'mp-661', 'job_tag': 'GW0-BSE'}):\n",
    "    bfreq=x[\"frequency\"] \n",
    "    #1-D array containing list of frequencies in eV\n",
    "    \n",
    "    beps1=x[\"epsilon_1\"] \n",
    "    #Real part of the dielectric function at those frquencies\n",
    "    \n",
    "    beps2=x[\"epsilon_2\"] \n",
    "    #Imaginary part of the dielectric function at those frquencies\n",
    "    \n",
    "    opt=x[\"optical_transition\"] \n",
    "    #List of [en,os] where,en is the transition energies in eV and os is the corresponding oscillator strengths\n",
    "    \n",
    "    qpg=x[\"direct_gap\"] \n",
    "    #direct QP gap"
   ]
  },
  {
   "cell_type": "markdown",
   "metadata": {},
   "source": [
    "Each element (there are same number of such element as the number of frequency values in `bfreq`) of $beps1$ and $beps2$ contains six values which are ordered as $\\epsilon^{xx}$, $\\epsilon^{yy}$, $\\epsilon^{zz}$, $\\epsilon^{xy}$, $\\epsilon^{yz}$, $\\epsilon^{xz}$ "
   ]
  },
  {
   "cell_type": "code",
   "execution_count": null,
   "metadata": {},
   "outputs": [],
   "source": [
    "beps2[0]"
   ]
  },
  {
   "cell_type": "markdown",
   "metadata": {},
   "source": [
    "Now let's compute the exciton binding energy of AlN "
   ]
  },
  {
   "cell_type": "code",
   "execution_count": null,
   "metadata": {},
   "outputs": [],
   "source": [
    "opg=opt[0][0]\n",
    "ebe=qpg-opg\n",
    "print('QP gap:','%5.2f' %qpg, 'Optical gap:','%5.2f' %opg, 'Exciton Binding Energy:','%5.2f' %ebe)"
   ]
  },
  {
   "cell_type": "markdown",
   "metadata": {},
   "source": [
    "Now let's extract the $\\epsilon^{xx}_1$ and $\\epsilon^{xx}_2$ from $beps1$ and $beps2$ and plot them."
   ]
  },
  {
   "cell_type": "code",
   "execution_count": null,
   "metadata": {},
   "outputs": [],
   "source": [
    "beps1x=[row[0] for row in beps1]\n",
    "beps2x=[row[0] for row in beps2]"
   ]
  },
  {
   "cell_type": "code",
   "execution_count": null,
   "metadata": {},
   "outputs": [],
   "source": [
    "plt.plot(bfreq,beps1x,c='r',ls='-', lw=2,label=r'$\\epsilon_1^{xx}$')\n",
    "plt.plot(bfreq,beps2x,c='b',ls='-', lw=2,label=r'$\\epsilon_2^{xx}$')\n",
    "plt.xlabel('frequency in eV')\n",
    "plt.ylabel(r'$\\epsilon$')\n",
    "plt.legend()\n",
    "plt.xlim(5,12)\n",
    "plt.show()"
   ]
  },
  {
   "cell_type": "markdown",
   "metadata": {},
   "source": [
    "One might also be interested in looking at the absorption spectra from the DFT or GW level without including any e-h interactions to study the excitonic effects BSE captures."
   ]
  },
  {
   "cell_type": "code",
   "execution_count": null,
   "metadata": {},
   "outputs": [],
   "source": [
    "#Get data to plot the absorption spectra using QP energies but without e-h interaction\n",
    "\n",
    "eqpcollection = db.get_collection('QP_Results')\n",
    "for x in eqpcollection.find({\"material_id\": 'mp-661', \"task_label\": { \"$regex\": 'scGW'}, 'ifconv': True}):\n",
    "    gfreq=x[\"frequency\"] \n",
    "    #1-D array containing list of frequencies in eV\n",
    "    geps2=x[\"epsilon_2\"]\n",
    "    #Imaginary part of the dielectric function at those frquencies   "
   ]
  },
  {
   "cell_type": "markdown",
   "metadata": {},
   "source": [
    "Now let's extract the $\\epsilon^{xx}_2$ from $geps2$."
   ]
  },
  {
   "cell_type": "code",
   "execution_count": null,
   "metadata": {},
   "outputs": [],
   "source": [
    "geps2x=[row[0] for row in geps2]"
   ]
  },
  {
   "cell_type": "code",
   "execution_count": null,
   "metadata": {},
   "outputs": [],
   "source": [
    "#Get data to plot the RPA absorption spectra\n",
    "\n",
    "eqpcollection = db.get_collection('RPA_Results')\n",
    "for x in eqpcollection.find({\"material_id\": mid}):\n",
    "    rfreq=x[\"frequency\"] \n",
    "    #1-D array containing list of frequencies in eV\n",
    "    \n",
    "    reps2=x[\"epsilon_2\"] \n",
    "    #Imaginary part of the dielectric function at those frquencies   "
   ]
  },
  {
   "cell_type": "markdown",
   "metadata": {},
   "source": [
    "Now let's extract the $\\epsilon^{xx}_2$ from $reps2$."
   ]
  },
  {
   "cell_type": "code",
   "execution_count": null,
   "metadata": {},
   "outputs": [],
   "source": [
    "reps2x=[row[0] for row in reps2]"
   ]
  },
  {
   "cell_type": "markdown",
   "metadata": {},
   "source": [
    "We have provided the experimental absorption data in the 'AlN_abs.txt' file. Let's read the file."
   ]
  },
  {
   "cell_type": "code",
   "execution_count": null,
   "metadata": {},
   "outputs": [],
   "source": [
    "f=open('AlN_abs.txt')\n",
    "contents=f.readlines()\n",
    "f.close()\n",
    "x=[]\n",
    "y=[]\n",
    "for content in contents:\n",
    "    lines=str.split(content)\n",
    "    x.append(eval(lines[0]))\n",
    "    y.append(eval(lines[1]))"
   ]
  },
  {
   "cell_type": "markdown",
   "metadata": {},
   "source": [
    "Now we can compare the absorption spectra computed using different methods with the experimental one.  "
   ]
  },
  {
   "cell_type": "code",
   "execution_count": null,
   "metadata": {},
   "outputs": [],
   "source": [
    "plt.scatter(x, y, c='k', s=50, marker='+', label='Expt')\n",
    "plt.plot(rfreq,reps2x,c='g',ls='-', label='RPA')\n",
    "plt.plot(bfreq,beps2x,c='m',ls='-', label='with e-h intearaction (BSE)')\n",
    "plt.plot(gfreq,geps2x,c='m',ls='--', label='without e-h interaction')\n",
    "plt.xlabel('frequency in eV')\n",
    "plt.ylabel(r'$\\epsilon_2$')\n",
    "plt.legend()\n",
    "plt.xlim(4,10)\n",
    "plt.show()"
   ]
  }
 ],
 "metadata": {
  "kernelspec": {
   "display_name": "cms",
   "language": "python",
   "name": "cms"
  },
  "language_info": {
   "codemirror_mode": {
    "name": "ipython",
    "version": 3
   },
   "file_extension": ".py",
   "mimetype": "text/x-python",
   "name": "python",
   "nbconvert_exporter": "python",
   "pygments_lexer": "ipython3",
   "version": "3.6.13"
  }
 },
 "nbformat": 4,
 "nbformat_minor": 2
}
